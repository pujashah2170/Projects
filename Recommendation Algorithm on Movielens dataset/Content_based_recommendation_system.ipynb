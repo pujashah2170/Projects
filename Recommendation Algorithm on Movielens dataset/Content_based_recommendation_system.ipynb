{
  "nbformat": 4,
  "nbformat_minor": 0,
  "metadata": {
    "colab": {
      "provenance": []
    },
    "kernelspec": {
      "name": "python3",
      "display_name": "Python 3"
    },
    "language_info": {
      "name": "python"
    }
  },
  "cells": [
    {
      "cell_type": "markdown",
      "source": [
        "# 1) Content Based Recommendation System on MovieLens Dataet"
      ],
      "metadata": {
        "id": "zfkqgezt6pXR"
      }
    },
    {
      "cell_type": "markdown",
      "source": [
        "# Content-based Recommender System:-\n",
        " Content-based filtering is one popular technique of recommendation or recommender systems. The content or attributes of the things you like are referred to as \"content.\"\n",
        "\n",
        " Here, the system uses your features and likes in order to recommend you with things that you might like. It uses the information provided by you over the internet and the ones they are able to gather and then they curate recommendations according to that.\n",
        "\n",
        "The goal behind content-based filtering is to classify products with specific keywords, learn what the customer likes, look up those terms in the database, and then recommend similar things.\n",
        "\n",
        "This type of recommender system is hugely dependent on the inputs provided by users, some common examples included Google, Wikipedia, etc. For example, when a user searches for a group of keywords, then Google displays all the items consisting of those keywords.\n",
        "\n",
        "## Example\n",
        " Suppose I am a fan of the Harry Potter series and watch only such kinds of movies on the internet. When my data will be gathered from Google or Wikipedia, it will be found out that I am a fan of fantasy movies. Therefore, my recommendation will be filled with fantasy movies. Among all the movies, the ones best for me will be curated and then recommended to me.\n",
        "\n",
        "Suppose there are two movies, one is Fantastic Beasts and the other is Shawshank Redemption, then according to my preference of fantasy movies, the Fantastic Beasts will recommend to me."
      ],
      "metadata": {
        "id": "S584ivCB7MYe"
      }
    },
    {
      "cell_type": "markdown",
      "source": [
        "# How does it works\n",
        " The content-based recommendation system works on two methods, both of them using different models and algorithms. One uses the vector spacing method and is called method 1, while the other uses a classification model and is called method 2.\n",
        "#### 1)Method 1: The vector space method\n",
        "\n",
        " Let us suppose you watched a crime thriller movie written by Agatha Christie, you review it on the internet. Also, you review one more fictional movie of the comedy genre with it and review the crime thriller movies as good and the comedy one as bad.\n",
        "\n",
        " Now, a rating system is made according to the information provided by you. In the rating system from 0 to 9, crime thriller and detective genres are ranked as 9, and other serious movies lie from 9 to 0 and the comedy ones lie at the lowest, maybe in minus.With this information, the next movie recommendation you will get will be of crime thriller genres most probably as they are the highest rated genres for you.\n",
        "\n",
        " For this ranking system, a user vector is created which ranks the information provided by you. After this, an item vector is created where movies are ranked according to their genres on it.\n",
        "\n",
        " With the vector, every movie title is assigned a certain value by multiplying and getting the dot product of the user and item vector, and the value is then used for recommendation.Like this, the dot products of all the available movies searched by you are ranked and according to it the top 5 or top 10 movies are assigned.\n",
        "\n",
        "This method was the first method used by a content-based recommendation system to recommend items to the user.\n"
      ],
      "metadata": {
        "id": "RaZbvdOF9Sxj"
      }
    },
    {
      "cell_type": "markdown",
      "source": [
        "### 2)Method 2: Classification method\n",
        "\n",
        " The second method is the classification method. In it, we can create a decision tree and find out if the user wants to watch a movie or not.\n",
        "\n",
        "For example, a movie is considered, let it be The Toy Story(1955).Based on the user data, we first look at the movie name and it is not J.K.Rowling. Then, the genre is not a crime thriller, nor it is the type of movie you ever reviewed. With these classifications, we conclude that this movie shouldn’t be recommended to you."
      ],
      "metadata": {
        "id": "VA0Frsi0_8gR"
      }
    },
    {
      "cell_type": "code",
      "execution_count": null,
      "metadata": {
        "id": "uX1PZoRRwgQQ"
      },
      "outputs": [],
      "source": [
        "import numpy as np\n",
        "import pandas as pd"
      ]
    },
    {
      "cell_type": "code",
      "source": [
        "movies_data=pd.read_csv('/content/movies.csv')\n",
        "movies_data.head()"
      ],
      "metadata": {
        "colab": {
          "base_uri": "https://localhost:8080/",
          "height": 206
        },
        "id": "GDdi3qTkxGKN",
        "outputId": "51b69308-fe75-42ef-b81c-d957c3650b47"
      },
      "execution_count": null,
      "outputs": [
        {
          "output_type": "execute_result",
          "data": {
            "text/plain": [
              "   movieId                               title  \\\n",
              "0        1                    Toy Story (1995)   \n",
              "1        2                      Jumanji (1995)   \n",
              "2        3             Grumpier Old Men (1995)   \n",
              "3        4            Waiting to Exhale (1995)   \n",
              "4        5  Father of the Bride Part II (1995)   \n",
              "\n",
              "                                        genres  \n",
              "0  Adventure|Animation|Children|Comedy|Fantasy  \n",
              "1                   Adventure|Children|Fantasy  \n",
              "2                               Comedy|Romance  \n",
              "3                         Comedy|Drama|Romance  \n",
              "4                                       Comedy  "
            ],
            "text/html": [
              "\n",
              "  <div id=\"df-73dc5187-295b-4949-a2da-285fd2807954\">\n",
              "    <div class=\"colab-df-container\">\n",
              "      <div>\n",
              "<style scoped>\n",
              "    .dataframe tbody tr th:only-of-type {\n",
              "        vertical-align: middle;\n",
              "    }\n",
              "\n",
              "    .dataframe tbody tr th {\n",
              "        vertical-align: top;\n",
              "    }\n",
              "\n",
              "    .dataframe thead th {\n",
              "        text-align: right;\n",
              "    }\n",
              "</style>\n",
              "<table border=\"1\" class=\"dataframe\">\n",
              "  <thead>\n",
              "    <tr style=\"text-align: right;\">\n",
              "      <th></th>\n",
              "      <th>movieId</th>\n",
              "      <th>title</th>\n",
              "      <th>genres</th>\n",
              "    </tr>\n",
              "  </thead>\n",
              "  <tbody>\n",
              "    <tr>\n",
              "      <th>0</th>\n",
              "      <td>1</td>\n",
              "      <td>Toy Story (1995)</td>\n",
              "      <td>Adventure|Animation|Children|Comedy|Fantasy</td>\n",
              "    </tr>\n",
              "    <tr>\n",
              "      <th>1</th>\n",
              "      <td>2</td>\n",
              "      <td>Jumanji (1995)</td>\n",
              "      <td>Adventure|Children|Fantasy</td>\n",
              "    </tr>\n",
              "    <tr>\n",
              "      <th>2</th>\n",
              "      <td>3</td>\n",
              "      <td>Grumpier Old Men (1995)</td>\n",
              "      <td>Comedy|Romance</td>\n",
              "    </tr>\n",
              "    <tr>\n",
              "      <th>3</th>\n",
              "      <td>4</td>\n",
              "      <td>Waiting to Exhale (1995)</td>\n",
              "      <td>Comedy|Drama|Romance</td>\n",
              "    </tr>\n",
              "    <tr>\n",
              "      <th>4</th>\n",
              "      <td>5</td>\n",
              "      <td>Father of the Bride Part II (1995)</td>\n",
              "      <td>Comedy</td>\n",
              "    </tr>\n",
              "  </tbody>\n",
              "</table>\n",
              "</div>\n",
              "      <button class=\"colab-df-convert\" onclick=\"convertToInteractive('df-73dc5187-295b-4949-a2da-285fd2807954')\"\n",
              "              title=\"Convert this dataframe to an interactive table.\"\n",
              "              style=\"display:none;\">\n",
              "        \n",
              "  <svg xmlns=\"http://www.w3.org/2000/svg\" height=\"24px\"viewBox=\"0 0 24 24\"\n",
              "       width=\"24px\">\n",
              "    <path d=\"M0 0h24v24H0V0z\" fill=\"none\"/>\n",
              "    <path d=\"M18.56 5.44l.94 2.06.94-2.06 2.06-.94-2.06-.94-.94-2.06-.94 2.06-2.06.94zm-11 1L8.5 8.5l.94-2.06 2.06-.94-2.06-.94L8.5 2.5l-.94 2.06-2.06.94zm10 10l.94 2.06.94-2.06 2.06-.94-2.06-.94-.94-2.06-.94 2.06-2.06.94z\"/><path d=\"M17.41 7.96l-1.37-1.37c-.4-.4-.92-.59-1.43-.59-.52 0-1.04.2-1.43.59L10.3 9.45l-7.72 7.72c-.78.78-.78 2.05 0 2.83L4 21.41c.39.39.9.59 1.41.59.51 0 1.02-.2 1.41-.59l7.78-7.78 2.81-2.81c.8-.78.8-2.07 0-2.86zM5.41 20L4 18.59l7.72-7.72 1.47 1.35L5.41 20z\"/>\n",
              "  </svg>\n",
              "      </button>\n",
              "      \n",
              "  <style>\n",
              "    .colab-df-container {\n",
              "      display:flex;\n",
              "      flex-wrap:wrap;\n",
              "      gap: 12px;\n",
              "    }\n",
              "\n",
              "    .colab-df-convert {\n",
              "      background-color: #E8F0FE;\n",
              "      border: none;\n",
              "      border-radius: 50%;\n",
              "      cursor: pointer;\n",
              "      display: none;\n",
              "      fill: #1967D2;\n",
              "      height: 32px;\n",
              "      padding: 0 0 0 0;\n",
              "      width: 32px;\n",
              "    }\n",
              "\n",
              "    .colab-df-convert:hover {\n",
              "      background-color: #E2EBFA;\n",
              "      box-shadow: 0px 1px 2px rgba(60, 64, 67, 0.3), 0px 1px 3px 1px rgba(60, 64, 67, 0.15);\n",
              "      fill: #174EA6;\n",
              "    }\n",
              "\n",
              "    [theme=dark] .colab-df-convert {\n",
              "      background-color: #3B4455;\n",
              "      fill: #D2E3FC;\n",
              "    }\n",
              "\n",
              "    [theme=dark] .colab-df-convert:hover {\n",
              "      background-color: #434B5C;\n",
              "      box-shadow: 0px 1px 3px 1px rgba(0, 0, 0, 0.15);\n",
              "      filter: drop-shadow(0px 1px 2px rgba(0, 0, 0, 0.3));\n",
              "      fill: #FFFFFF;\n",
              "    }\n",
              "  </style>\n",
              "\n",
              "      <script>\n",
              "        const buttonEl =\n",
              "          document.querySelector('#df-73dc5187-295b-4949-a2da-285fd2807954 button.colab-df-convert');\n",
              "        buttonEl.style.display =\n",
              "          google.colab.kernel.accessAllowed ? 'block' : 'none';\n",
              "\n",
              "        async function convertToInteractive(key) {\n",
              "          const element = document.querySelector('#df-73dc5187-295b-4949-a2da-285fd2807954');\n",
              "          const dataTable =\n",
              "            await google.colab.kernel.invokeFunction('convertToInteractive',\n",
              "                                                     [key], {});\n",
              "          if (!dataTable) return;\n",
              "\n",
              "          const docLinkHtml = 'Like what you see? Visit the ' +\n",
              "            '<a target=\"_blank\" href=https://colab.research.google.com/notebooks/data_table.ipynb>data table notebook</a>'\n",
              "            + ' to learn more about interactive tables.';\n",
              "          element.innerHTML = '';\n",
              "          dataTable['output_type'] = 'display_data';\n",
              "          await google.colab.output.renderOutput(dataTable, element);\n",
              "          const docLink = document.createElement('div');\n",
              "          docLink.innerHTML = docLinkHtml;\n",
              "          element.appendChild(docLink);\n",
              "        }\n",
              "      </script>\n",
              "    </div>\n",
              "  </div>\n",
              "  "
            ]
          },
          "metadata": {},
          "execution_count": 2
        }
      ]
    },
    {
      "cell_type": "code",
      "source": [
        "movies_new_data=movies_data.sample(frac=0.40)"
      ],
      "metadata": {
        "id": "FVXW75-MzILg"
      },
      "execution_count": null,
      "outputs": []
    },
    {
      "cell_type": "markdown",
      "source": [
        "### Tfidfvectorizer-"
      ],
      "metadata": {
        "id": "jUBnUyeyQu-a"
      }
    },
    {
      "cell_type": "code",
      "source": [
        "from sklearn.feature_extraction.text import TfidfVectorizer"
      ],
      "metadata": {
        "id": "jtC5i7j8xUgJ"
      },
      "execution_count": null,
      "outputs": []
    },
    {
      "cell_type": "code",
      "source": [
        "tfv=TfidfVectorizer(min_df=3,max_features=None,strip_accents='unicode',analyzer='word',token_pattern=r'\\w{1,}',\n",
        "                   ngram_range=(1,3),stop_words='english')\n",
        "movies_new_data['genres']=movies_new_data['genres'].fillna('')"
      ],
      "metadata": {
        "id": "BQbbtj3IzVHj"
      },
      "execution_count": null,
      "outputs": []
    },
    {
      "cell_type": "code",
      "source": [
        "tfv_matrix=tfv.fit_transform(movies_new_data['genres'])\n",
        "tfv_matrix\n",
        "tfv_matrix.shape"
      ],
      "metadata": {
        "colab": {
          "base_uri": "https://localhost:8080/"
        },
        "id": "WjOYfFKPzsPT",
        "outputId": "8b13d18b-e5fd-4a46-c40d-db47bf5c3a2b"
      },
      "execution_count": null,
      "outputs": [
        {
          "output_type": "execute_result",
          "data": {
            "text/plain": [
              "(24969, 452)"
            ]
          },
          "metadata": {},
          "execution_count": 6
        }
      ]
    },
    {
      "cell_type": "code",
      "source": [
        "from sklearn.metrics.pairwise import sigmoid_kernel\n",
        "sig=sigmoid_kernel(tfv_matrix,tfv_matrix)\n",
        "sig[1]"
      ],
      "metadata": {
        "colab": {
          "base_uri": "https://localhost:8080/"
        },
        "id": "BXnNzAYKz-nc",
        "outputId": "5ed76964-35b1-409a-f1d9-7ed1723636db"
      },
      "execution_count": null,
      "outputs": [
        {
          "output_type": "execute_result",
          "data": {
            "text/plain": [
              "array([0.76159416, 0.76252174, 0.76159416, ..., 0.76159416, 0.76159416,\n",
              "       0.76159416])"
            ]
          },
          "metadata": {},
          "execution_count": 7
        }
      ]
    },
    {
      "cell_type": "code",
      "source": [
        "indices=pd.Series(movies_new_data.index,index=movies_new_data['title']).drop_duplicates()\n",
        "indices"
      ],
      "metadata": {
        "colab": {
          "base_uri": "https://localhost:8080/"
        },
        "id": "s9xnhxzD5lfX",
        "outputId": "9b1ce6c8-8b58-4d7f-e3b4-f14cc1eaa0a4"
      },
      "execution_count": null,
      "outputs": [
        {
          "output_type": "execute_result",
          "data": {
            "text/plain": [
              "title\n",
              "The Creepy Line (2018)                           56581\n",
              "The Ravenous (2017)                              52133\n",
              "Love on Ice (2017)                               49783\n",
              "Printed Rainbow (2006)                           14024\n",
              "Picture Me: A Model's Diary (2009)               17509\n",
              "                                                 ...  \n",
              "Noite Escura (2004)                              32957\n",
              "Pornocracy: The New Sex Multinationals (2017)    48502\n",
              "Incognito from St.Petersburg (1977)              32837\n",
              "Big Bullet (1996)                                44140\n",
              "Snowland (2005)                                  40424\n",
              "Length: 24969, dtype: int64"
            ]
          },
          "metadata": {},
          "execution_count": 8
        }
      ]
    },
    {
      "cell_type": "code",
      "source": [
        "def give_rec(name,sig=sig):\n",
        "    #get the index corresponding to original title\n",
        "    idx=indices[name]\n",
        "    #get the pairwise similarity scores\n",
        "    sig_scores=list(enumerate(sig[idx]))\n",
        "    #sort the products\n",
        "    sig_scores=sorted(sig_scores,key=lambda x:x[1],reverse=True)\n",
        "    #Scores of the 10 most similar products\n",
        "    sig_scores=sig_scores[1:11]\n",
        "    prod_indices=[i[0] for i in sig_scores]\n",
        "    return movies_new_data['title'].iloc[prod_indices]"
      ],
      "metadata": {
        "id": "0BEiWe1H59eo"
      },
      "execution_count": null,
      "outputs": []
    },
    {
      "cell_type": "code",
      "source": [
        "give_rec('Becoming Chaz (2011)')"
      ],
      "metadata": {
        "colab": {
          "base_uri": "https://localhost:8080/"
        },
        "id": "_s6ZkKrC6TKe",
        "outputId": "4a58a19a-d230-4b3a-e895-f6387ae72b4b"
      },
      "execution_count": null,
      "outputs": [
        {
          "output_type": "execute_result",
          "data": {
            "text/plain": [
              "46937                The Boss's Daughter (2016)\n",
              "33343                              Sissi (1955)\n",
              "1508     For Roseanna (Roseanna's Grave) (1997)\n",
              "41141                         Crazy Eyes (2012)\n",
              "6390                 Made for Each Other (1939)\n",
              "41178                  Kismat Konnection (2008)\n",
              "4142               Bridget Jones's Diary (2001)\n",
              "12225             Only Game in Town, The (1970)\n",
              "7241                         Jersey Girl (2004)\n",
              "36244               The Art of Seduction (2005)\n",
              "Name: title, dtype: object"
            ]
          },
          "metadata": {},
          "execution_count": 10
        }
      ]
    }
  ]
}